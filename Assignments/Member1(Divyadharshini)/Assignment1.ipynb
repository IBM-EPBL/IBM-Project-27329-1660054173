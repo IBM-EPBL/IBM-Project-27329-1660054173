{
  "nbformat": 4,
  "nbformat_minor": 0,
  "metadata": {
    "colab": {
      "provenance": [],
      "collapsed_sections": []
    },
    "kernelspec": {
      "name": "python3",
      "display_name": "Python 3"
    },
    "language_info": {
      "name": "python"
    }
  },
  "cells": [
    {
      "cell_type": "markdown",
      "source": [
        "# **Basic python**"
      ],
      "metadata": {
        "id": "DGyF6TEFqjNP"
      }
    },
    {
      "cell_type": "code",
      "execution_count": null,
      "metadata": {
        "id": "4pRHTNlpl0LJ"
      },
      "outputs": [],
      "source": [
        "s = \"Hi i am world!\""
      ]
    },
    {
      "cell_type": "markdown",
      "source": [
        "# **1. Split this string**"
      ],
      "metadata": {
        "id": "jshw9C4fqWDK"
      }
    },
    {
      "cell_type": "code",
      "source": [
        "s.split()"
      ],
      "metadata": {
        "colab": {
          "base_uri": "https://localhost:8080/"
        },
        "id": "6fQvJbyimDi0",
        "outputId": "994a9d22-12f2-49a4-d340-fff930fd4e45"
      },
      "execution_count": null,
      "outputs": [
        {
          "output_type": "execute_result",
          "data": {
            "text/plain": [
              "['Hi', 'there', 'Sam!']"
            ]
          },
          "metadata": {},
          "execution_count": 2
        }
      ]
    },
    {
      "cell_type": "markdown",
      "source": [
        "# **2.Output should be: The diameter of Earth is 12742 kilometers.**"
      ],
      "metadata": {
        "id": "luS7Nu4iqIVL"
      }
    },
    {
      "cell_type": "code",
      "source": [
        "planet = \"Earth\"\n",
        "diameter = 12742"
      ],
      "metadata": {
        "id": "93q0tjtHmZiW"
      },
      "execution_count": null,
      "outputs": []
    },
    {
      "cell_type": "code",
      "source": [
        "print('The diameter of {} is {} kilometers.' . format(planet,diameter));\n"
      ],
      "metadata": {
        "colab": {
          "base_uri": "https://localhost:8080/"
        },
        "id": "qtp4HpTqmhkQ",
        "outputId": "22bd3cae-1738-479c-c306-926e5ebf717b"
      },
      "execution_count": null,
      "outputs": [
        {
          "output_type": "stream",
          "name": "stdout",
          "text": [
            "The diameter of Earth is 12742 kilometers.\n"
          ]
        }
      ]
    },
    {
      "cell_type": "markdown",
      "source": [
        "# **3. In this nest dictionary grab the word \"hello\"**"
      ],
      "metadata": {
        "id": "NKJopGtFqBOz"
      }
    },
    {
      "cell_type": "code",
      "source": [
        "d = {'k1':[1,2,3,{'tricky':['oh','man','inception',{'target':[1,2,3,'hello']}]}]}"
      ],
      "metadata": {
        "id": "hKVABcYMmoDU"
      },
      "execution_count": null,
      "outputs": []
    },
    {
      "cell_type": "code",
      "source": [
        "d['k1'][3]['tricky'][3]['target'][3]"
      ],
      "metadata": {
        "colab": {
          "base_uri": "https://localhost:8080/",
          "height": 35
        },
        "id": "ROc6rI5Amu4A",
        "outputId": "b2014422-92bc-4329-cd7b-b7614d8071ed"
      },
      "execution_count": null,
      "outputs": [
        {
          "output_type": "execute_result",
          "data": {
            "text/plain": [
              "'hello'"
            ],
            "application/vnd.google.colaboratory.intrinsic+json": {
              "type": "string"
            }
          },
          "metadata": {},
          "execution_count": 6
        }
      ]
    },
    {
      "cell_type": "code",
      "source": [
        "import numpy as np"
      ],
      "metadata": {
        "id": "6t6URRKtm0Nc"
      },
      "execution_count": null,
      "outputs": []
    },
    {
      "cell_type": "markdown",
      "source": [
        "# **4.1 Create an array of 10 zeros?**"
      ],
      "metadata": {
        "id": "ck2AA1Qvp3Sa"
      }
    },
    {
      "cell_type": "markdown",
      "source": [
        "# **4.2 Create an array of 10 fives?**"
      ],
      "metadata": {
        "id": "8EhYyXoFpn7J"
      }
    },
    {
      "cell_type": "code",
      "source": [
        "a = np.zeros(10)"
      ],
      "metadata": {
        "id": "ysXT8eJNm5sE"
      },
      "execution_count": null,
      "outputs": []
    },
    {
      "cell_type": "code",
      "source": [
        "a"
      ],
      "metadata": {
        "colab": {
          "base_uri": "https://localhost:8080/"
        },
        "id": "WHPq_wnjm_Ed",
        "outputId": "7d6f860d-0ff8-4841-d555-0a8afd968133"
      },
      "execution_count": null,
      "outputs": [
        {
          "output_type": "execute_result",
          "data": {
            "text/plain": [
              "array([0., 0., 0., 0., 0., 0., 0., 0., 0., 0.])"
            ]
          },
          "metadata": {},
          "execution_count": 9
        }
      ]
    },
    {
      "cell_type": "markdown",
      "source": [],
      "metadata": {
        "id": "MuIe7fh_pTtf"
      }
    },
    {
      "cell_type": "markdown",
      "source": [
        "# **5. Create an array of all the even integers from 20 to 35**"
      ],
      "metadata": {
        "id": "qbLjH8MRpWmi"
      }
    },
    {
      "cell_type": "code",
      "source": [
        "b = np.ones(10)*5\n",
        "b"
      ],
      "metadata": {
        "colab": {
          "base_uri": "https://localhost:8080/"
        },
        "id": "bR2WT7YwnDjg",
        "outputId": "dca51f11-e361-4478-a363-b466f00468a7"
      },
      "execution_count": null,
      "outputs": [
        {
          "output_type": "execute_result",
          "data": {
            "text/plain": [
              "array([5., 5., 5., 5., 5., 5., 5., 5., 5., 5.])"
            ]
          },
          "metadata": {},
          "execution_count": 10
        }
      ]
    },
    {
      "cell_type": "markdown",
      "source": [
        "# **6. Create a 3x3 matrix with values ranging from 0 to 8**"
      ],
      "metadata": {
        "id": "IVAyRafmpHPx"
      }
    },
    {
      "cell_type": "code",
      "source": [
        "c = np.arange(0,16).reshape(4,4)\n",
        "c"
      ],
      "metadata": {
        "colab": {
          "base_uri": "https://localhost:8080/"
        },
        "id": "0kzpdAbInKqX",
        "outputId": "fb5d1a8d-fcfa-42a7-d366-7d4359fea307"
      },
      "execution_count": null,
      "outputs": [
        {
          "output_type": "execute_result",
          "data": {
            "text/plain": [
              "array([[ 0,  1,  2,  3],\n",
              "       [ 4,  5,  6,  7],\n",
              "       [ 8,  9, 10, 11],\n",
              "       [12, 13, 14, 15]])"
            ]
          },
          "metadata": {},
          "execution_count": 13
        }
      ]
    },
    {
      "cell_type": "markdown",
      "source": [
        "# **7. Concatinate a and b**\n"
      ],
      "metadata": {
        "id": "BRAUtsV9o_R5"
      }
    },
    {
      "cell_type": "markdown",
      "source": [
        "# **a = np.array([1, 2, 3]), b = np.array([4, 5, 6])**"
      ],
      "metadata": {
        "id": "m0tYIsQGo4B5"
      }
    },
    {
      "cell_type": "code",
      "source": [
        "a = np.array([1,2,3])\n",
        "b = np.array([4,5,6])\n",
        "np.concatenate((a,b),axis=0)"
      ],
      "metadata": {
        "colab": {
          "base_uri": "https://localhost:8080/"
        },
        "id": "jD6d4PEHndeo",
        "outputId": "61f189ce-5764-4d09-ee5e-36594ca8ecca"
      },
      "execution_count": null,
      "outputs": [
        {
          "output_type": "execute_result",
          "data": {
            "text/plain": [
              "array([1, 2, 3, 4, 5, 6])"
            ]
          },
          "metadata": {},
          "execution_count": 14
        }
      ]
    },
    {
      "cell_type": "markdown",
      "source": [
        "# **pandas**"
      ],
      "metadata": {
        "id": "FX2ZjKUFou5v"
      }
    },
    {
      "cell_type": "markdown",
      "source": [
        "# **8. Create a dataframe with 3 rows and 2 columns**"
      ],
      "metadata": {
        "id": "C6Jj1RtConIt"
      }
    },
    {
      "cell_type": "code",
      "source": [
        "import pandas as pd\n"
      ],
      "metadata": {
        "id": "NMukuzzknkaO"
      },
      "execution_count": null,
      "outputs": []
    },
    {
      "cell_type": "code",
      "source": [
        "d = {\"fruits\":[\"mango\",\"orange\",\"apple\"],\"color\":[\"yellow\",\"orange\",\"red\"]}\n",
        "df = pd.DataFrame(d)\n",
        "df"
      ],
      "metadata": {
        "colab": {
          "base_uri": "https://localhost:8080/",
          "height": 143
        },
        "id": "GqaXyEOqnm7M",
        "outputId": "8bb31828-0b7b-41ea-adaf-fc5b1f41a748"
      },
      "execution_count": null,
      "outputs": [
        {
          "output_type": "execute_result",
          "data": {
            "text/plain": [
              "   fruits   color\n",
              "0   mango  yellow\n",
              "1  orange  orange\n",
              "2   apple     red"
            ],
            "text/html": [
              "\n",
              "  <div id=\"df-052f1d9b-7bf6-4904-8640-f4c8a16a99af\">\n",
              "    <div class=\"colab-df-container\">\n",
              "      <div>\n",
              "<style scoped>\n",
              "    .dataframe tbody tr th:only-of-type {\n",
              "        vertical-align: middle;\n",
              "    }\n",
              "\n",
              "    .dataframe tbody tr th {\n",
              "        vertical-align: top;\n",
              "    }\n",
              "\n",
              "    .dataframe thead th {\n",
              "        text-align: right;\n",
              "    }\n",
              "</style>\n",
              "<table border=\"1\" class=\"dataframe\">\n",
              "  <thead>\n",
              "    <tr style=\"text-align: right;\">\n",
              "      <th></th>\n",
              "      <th>fruits</th>\n",
              "      <th>color</th>\n",
              "    </tr>\n",
              "  </thead>\n",
              "  <tbody>\n",
              "    <tr>\n",
              "      <th>0</th>\n",
              "      <td>mango</td>\n",
              "      <td>yellow</td>\n",
              "    </tr>\n",
              "    <tr>\n",
              "      <th>1</th>\n",
              "      <td>orange</td>\n",
              "      <td>orange</td>\n",
              "    </tr>\n",
              "    <tr>\n",
              "      <th>2</th>\n",
              "      <td>apple</td>\n",
              "      <td>red</td>\n",
              "    </tr>\n",
              "  </tbody>\n",
              "</table>\n",
              "</div>\n",
              "      <button class=\"colab-df-convert\" onclick=\"convertToInteractive('df-052f1d9b-7bf6-4904-8640-f4c8a16a99af')\"\n",
              "              title=\"Convert this dataframe to an interactive table.\"\n",
              "              style=\"display:none;\">\n",
              "        \n",
              "  <svg xmlns=\"http://www.w3.org/2000/svg\" height=\"24px\"viewBox=\"0 0 24 24\"\n",
              "       width=\"24px\">\n",
              "    <path d=\"M0 0h24v24H0V0z\" fill=\"none\"/>\n",
              "    <path d=\"M18.56 5.44l.94 2.06.94-2.06 2.06-.94-2.06-.94-.94-2.06-.94 2.06-2.06.94zm-11 1L8.5 8.5l.94-2.06 2.06-.94-2.06-.94L8.5 2.5l-.94 2.06-2.06.94zm10 10l.94 2.06.94-2.06 2.06-.94-2.06-.94-.94-2.06-.94 2.06-2.06.94z\"/><path d=\"M17.41 7.96l-1.37-1.37c-.4-.4-.92-.59-1.43-.59-.52 0-1.04.2-1.43.59L10.3 9.45l-7.72 7.72c-.78.78-.78 2.05 0 2.83L4 21.41c.39.39.9.59 1.41.59.51 0 1.02-.2 1.41-.59l7.78-7.78 2.81-2.81c.8-.78.8-2.07 0-2.86zM5.41 20L4 18.59l7.72-7.72 1.47 1.35L5.41 20z\"/>\n",
              "  </svg>\n",
              "      </button>\n",
              "      \n",
              "  <style>\n",
              "    .colab-df-container {\n",
              "      display:flex;\n",
              "      flex-wrap:wrap;\n",
              "      gap: 12px;\n",
              "    }\n",
              "\n",
              "    .colab-df-convert {\n",
              "      background-color: #E8F0FE;\n",
              "      border: none;\n",
              "      border-radius: 50%;\n",
              "      cursor: pointer;\n",
              "      display: none;\n",
              "      fill: #1967D2;\n",
              "      height: 32px;\n",
              "      padding: 0 0 0 0;\n",
              "      width: 32px;\n",
              "    }\n",
              "\n",
              "    .colab-df-convert:hover {\n",
              "      background-color: #E2EBFA;\n",
              "      box-shadow: 0px 1px 2px rgba(60, 64, 67, 0.3), 0px 1px 3px 1px rgba(60, 64, 67, 0.15);\n",
              "      fill: #174EA6;\n",
              "    }\n",
              "\n",
              "    [theme=dark] .colab-df-convert {\n",
              "      background-color: #3B4455;\n",
              "      fill: #D2E3FC;\n",
              "    }\n",
              "\n",
              "    [theme=dark] .colab-df-convert:hover {\n",
              "      background-color: #434B5C;\n",
              "      box-shadow: 0px 1px 3px 1px rgba(0, 0, 0, 0.15);\n",
              "      filter: drop-shadow(0px 1px 2px rgba(0, 0, 0, 0.3));\n",
              "      fill: #FFFFFF;\n",
              "    }\n",
              "  </style>\n",
              "\n",
              "      <script>\n",
              "        const buttonEl =\n",
              "          document.querySelector('#df-052f1d9b-7bf6-4904-8640-f4c8a16a99af button.colab-df-convert');\n",
              "        buttonEl.style.display =\n",
              "          google.colab.kernel.accessAllowed ? 'block' : 'none';\n",
              "\n",
              "        async function convertToInteractive(key) {\n",
              "          const element = document.querySelector('#df-052f1d9b-7bf6-4904-8640-f4c8a16a99af');\n",
              "          const dataTable =\n",
              "            await google.colab.kernel.invokeFunction('convertToInteractive',\n",
              "                                                     [key], {});\n",
              "          if (!dataTable) return;\n",
              "\n",
              "          const docLinkHtml = 'Like what you see? Visit the ' +\n",
              "            '<a target=\"_blank\" href=https://colab.research.google.com/notebooks/data_table.ipynb>data table notebook</a>'\n",
              "            + ' to learn more about interactive tables.';\n",
              "          element.innerHTML = '';\n",
              "          dataTable['output_type'] = 'display_data';\n",
              "          await google.colab.output.renderOutput(dataTable, element);\n",
              "          const docLink = document.createElement('div');\n",
              "          docLink.innerHTML = docLinkHtml;\n",
              "          element.appendChild(docLink);\n",
              "        }\n",
              "      </script>\n",
              "    </div>\n",
              "  </div>\n",
              "  "
            ]
          },
          "metadata": {},
          "execution_count": 16
        }
      ]
    },
    {
      "cell_type": "markdown",
      "source": [
        "# **9. Generate the series of dates from 1st Jan, 2024 to 10th Feb, 2024**"
      ],
      "metadata": {
        "id": "qgVSe-4aoaEI"
      }
    },
    {
      "cell_type": "code",
      "source": [
        "P = pd.date_range(start='1-1-2024',end='10-2-2024')\n",
        "for val in P:\n",
        "  print(val);"
      ],
      "metadata": {
        "colab": {
          "base_uri": "https://localhost:8080/"
        },
        "id": "6WeSm3fKnwiG",
        "outputId": "6cc7fb30-99bb-4e75-ed56-1e842aa2c276"
      },
      "execution_count": null,
      "outputs": [
        {
          "output_type": "stream",
          "name": "stdout",
          "text": [
            "2024-01-01 00:00:00\n",
            "2024-01-02 00:00:00\n",
            "2024-01-03 00:00:00\n",
            "2024-01-04 00:00:00\n",
            "2024-01-05 00:00:00\n",
            "2024-01-06 00:00:00\n",
            "2024-01-07 00:00:00\n",
            "2024-01-08 00:00:00\n",
            "2024-01-09 00:00:00\n",
            "2024-01-10 00:00:00\n",
            "2024-01-11 00:00:00\n",
            "2024-01-12 00:00:00\n",
            "2024-01-13 00:00:00\n",
            "2024-01-14 00:00:00\n",
            "2024-01-15 00:00:00\n",
            "2024-01-16 00:00:00\n",
            "2024-01-17 00:00:00\n",
            "2024-01-18 00:00:00\n",
            "2024-01-19 00:00:00\n",
            "2024-01-20 00:00:00\n",
            "2024-01-21 00:00:00\n",
            "2024-01-22 00:00:00\n",
            "2024-01-23 00:00:00\n",
            "2024-01-24 00:00:00\n",
            "2024-01-25 00:00:00\n",
            "2024-01-26 00:00:00\n",
            "2024-01-27 00:00:00\n",
            "2024-01-28 00:00:00\n",
            "2024-01-29 00:00:00\n",
            "2024-01-30 00:00:00\n",
            "2024-01-31 00:00:00\n",
            "2024-02-01 00:00:00\n",
            "2024-02-02 00:00:00\n",
            "2024-02-03 00:00:00\n",
            "2024-02-04 00:00:00\n",
            "2024-02-05 00:00:00\n",
            "2024-02-06 00:00:00\n",
            "2024-02-07 00:00:00\n",
            "2024-02-08 00:00:00\n",
            "2024-02-09 00:00:00\n",
            "2024-02-10 00:00:00\n",
            "2024-02-11 00:00:00\n",
            "2024-02-12 00:00:00\n",
            "2024-02-13 00:00:00\n",
            "2024-02-14 00:00:00\n",
            "2024-02-15 00:00:00\n",
            "2024-02-16 00:00:00\n",
            "2024-02-17 00:00:00\n",
            "2024-02-18 00:00:00\n",
            "2024-02-19 00:00:00\n",
            "2024-02-20 00:00:00\n",
            "2024-02-21 00:00:00\n",
            "2024-02-22 00:00:00\n",
            "2024-02-23 00:00:00\n",
            "2024-02-24 00:00:00\n",
            "2024-02-25 00:00:00\n",
            "2024-02-26 00:00:00\n",
            "2024-02-27 00:00:00\n",
            "2024-02-28 00:00:00\n",
            "2024-02-29 00:00:00\n",
            "2024-03-01 00:00:00\n",
            "2024-03-02 00:00:00\n",
            "2024-03-03 00:00:00\n",
            "2024-03-04 00:00:00\n",
            "2024-03-05 00:00:00\n",
            "2024-03-06 00:00:00\n",
            "2024-03-07 00:00:00\n",
            "2024-03-08 00:00:00\n",
            "2024-03-09 00:00:00\n",
            "2024-03-10 00:00:00\n",
            "2024-03-11 00:00:00\n",
            "2024-03-12 00:00:00\n",
            "2024-03-13 00:00:00\n",
            "2024-03-14 00:00:00\n",
            "2024-03-15 00:00:00\n",
            "2024-03-16 00:00:00\n",
            "2024-03-17 00:00:00\n",
            "2024-03-18 00:00:00\n",
            "2024-03-19 00:00:00\n",
            "2024-03-20 00:00:00\n",
            "2024-03-21 00:00:00\n",
            "2024-03-22 00:00:00\n",
            "2024-03-23 00:00:00\n",
            "2024-03-24 00:00:00\n",
            "2024-03-25 00:00:00\n",
            "2024-03-26 00:00:00\n",
            "2024-03-27 00:00:00\n",
            "2024-03-28 00:00:00\n",
            "2024-03-29 00:00:00\n",
            "2024-03-30 00:00:00\n",
            "2024-03-31 00:00:00\n",
            "2024-04-01 00:00:00\n",
            "2024-04-02 00:00:00\n",
            "2024-04-03 00:00:00\n",
            "2024-04-04 00:00:00\n",
            "2024-04-05 00:00:00\n",
            "2024-04-06 00:00:00\n",
            "2024-04-07 00:00:00\n",
            "2024-04-08 00:00:00\n",
            "2024-04-09 00:00:00\n",
            "2024-04-10 00:00:00\n",
            "2024-04-11 00:00:00\n",
            "2024-04-12 00:00:00\n",
            "2024-04-13 00:00:00\n",
            "2024-04-14 00:00:00\n",
            "2024-04-15 00:00:00\n",
            "2024-04-16 00:00:00\n",
            "2024-04-17 00:00:00\n",
            "2024-04-18 00:00:00\n",
            "2024-04-19 00:00:00\n",
            "2024-04-20 00:00:00\n",
            "2024-04-21 00:00:00\n",
            "2024-04-22 00:00:00\n",
            "2024-04-23 00:00:00\n",
            "2024-04-24 00:00:00\n",
            "2024-04-25 00:00:00\n",
            "2024-04-26 00:00:00\n",
            "2024-04-27 00:00:00\n",
            "2024-04-28 00:00:00\n",
            "2024-04-29 00:00:00\n",
            "2024-04-30 00:00:00\n",
            "2024-05-01 00:00:00\n",
            "2024-05-02 00:00:00\n",
            "2024-05-03 00:00:00\n",
            "2024-05-04 00:00:00\n",
            "2024-05-05 00:00:00\n",
            "2024-05-06 00:00:00\n",
            "2024-05-07 00:00:00\n",
            "2024-05-08 00:00:00\n",
            "2024-05-09 00:00:00\n",
            "2024-05-10 00:00:00\n",
            "2024-05-11 00:00:00\n",
            "2024-05-12 00:00:00\n",
            "2024-05-13 00:00:00\n",
            "2024-05-14 00:00:00\n",
            "2024-05-15 00:00:00\n",
            "2024-05-16 00:00:00\n",
            "2024-05-17 00:00:00\n",
            "2024-05-18 00:00:00\n",
            "2024-05-19 00:00:00\n",
            "2024-05-20 00:00:00\n",
            "2024-05-21 00:00:00\n",
            "2024-05-22 00:00:00\n",
            "2024-05-23 00:00:00\n",
            "2024-05-24 00:00:00\n",
            "2024-05-25 00:00:00\n",
            "2024-05-26 00:00:00\n",
            "2024-05-27 00:00:00\n",
            "2024-05-28 00:00:00\n",
            "2024-05-29 00:00:00\n",
            "2024-05-30 00:00:00\n",
            "2024-05-31 00:00:00\n",
            "2024-06-01 00:00:00\n",
            "2024-06-02 00:00:00\n",
            "2024-06-03 00:00:00\n",
            "2024-06-04 00:00:00\n",
            "2024-06-05 00:00:00\n",
            "2024-06-06 00:00:00\n",
            "2024-06-07 00:00:00\n",
            "2024-06-08 00:00:00\n",
            "2024-06-09 00:00:00\n",
            "2024-06-10 00:00:00\n",
            "2024-06-11 00:00:00\n",
            "2024-06-12 00:00:00\n",
            "2024-06-13 00:00:00\n",
            "2024-06-14 00:00:00\n",
            "2024-06-15 00:00:00\n",
            "2024-06-16 00:00:00\n",
            "2024-06-17 00:00:00\n",
            "2024-06-18 00:00:00\n",
            "2024-06-19 00:00:00\n",
            "2024-06-20 00:00:00\n",
            "2024-06-21 00:00:00\n",
            "2024-06-22 00:00:00\n",
            "2024-06-23 00:00:00\n",
            "2024-06-24 00:00:00\n",
            "2024-06-25 00:00:00\n",
            "2024-06-26 00:00:00\n",
            "2024-06-27 00:00:00\n",
            "2024-06-28 00:00:00\n",
            "2024-06-29 00:00:00\n",
            "2024-06-30 00:00:00\n",
            "2024-07-01 00:00:00\n",
            "2024-07-02 00:00:00\n",
            "2024-07-03 00:00:00\n",
            "2024-07-04 00:00:00\n",
            "2024-07-05 00:00:00\n",
            "2024-07-06 00:00:00\n",
            "2024-07-07 00:00:00\n",
            "2024-07-08 00:00:00\n",
            "2024-07-09 00:00:00\n",
            "2024-07-10 00:00:00\n",
            "2024-07-11 00:00:00\n",
            "2024-07-12 00:00:00\n",
            "2024-07-13 00:00:00\n",
            "2024-07-14 00:00:00\n",
            "2024-07-15 00:00:00\n",
            "2024-07-16 00:00:00\n",
            "2024-07-17 00:00:00\n",
            "2024-07-18 00:00:00\n",
            "2024-07-19 00:00:00\n",
            "2024-07-20 00:00:00\n",
            "2024-07-21 00:00:00\n",
            "2024-07-22 00:00:00\n",
            "2024-07-23 00:00:00\n",
            "2024-07-24 00:00:00\n",
            "2024-07-25 00:00:00\n",
            "2024-07-26 00:00:00\n",
            "2024-07-27 00:00:00\n",
            "2024-07-28 00:00:00\n",
            "2024-07-29 00:00:00\n",
            "2024-07-30 00:00:00\n",
            "2024-07-31 00:00:00\n",
            "2024-08-01 00:00:00\n",
            "2024-08-02 00:00:00\n",
            "2024-08-03 00:00:00\n",
            "2024-08-04 00:00:00\n",
            "2024-08-05 00:00:00\n",
            "2024-08-06 00:00:00\n",
            "2024-08-07 00:00:00\n",
            "2024-08-08 00:00:00\n",
            "2024-08-09 00:00:00\n",
            "2024-08-10 00:00:00\n",
            "2024-08-11 00:00:00\n",
            "2024-08-12 00:00:00\n",
            "2024-08-13 00:00:00\n",
            "2024-08-14 00:00:00\n",
            "2024-08-15 00:00:00\n",
            "2024-08-16 00:00:00\n",
            "2024-08-17 00:00:00\n",
            "2024-08-18 00:00:00\n",
            "2024-08-19 00:00:00\n",
            "2024-08-20 00:00:00\n",
            "2024-08-21 00:00:00\n",
            "2024-08-22 00:00:00\n",
            "2024-08-23 00:00:00\n",
            "2024-08-24 00:00:00\n",
            "2024-08-25 00:00:00\n",
            "2024-08-26 00:00:00\n",
            "2024-08-27 00:00:00\n",
            "2024-08-28 00:00:00\n",
            "2024-08-29 00:00:00\n",
            "2024-08-30 00:00:00\n",
            "2024-08-31 00:00:00\n",
            "2024-09-01 00:00:00\n",
            "2024-09-02 00:00:00\n",
            "2024-09-03 00:00:00\n",
            "2024-09-04 00:00:00\n",
            "2024-09-05 00:00:00\n",
            "2024-09-06 00:00:00\n",
            "2024-09-07 00:00:00\n",
            "2024-09-08 00:00:00\n",
            "2024-09-09 00:00:00\n",
            "2024-09-10 00:00:00\n",
            "2024-09-11 00:00:00\n",
            "2024-09-12 00:00:00\n",
            "2024-09-13 00:00:00\n",
            "2024-09-14 00:00:00\n",
            "2024-09-15 00:00:00\n",
            "2024-09-16 00:00:00\n",
            "2024-09-17 00:00:00\n",
            "2024-09-18 00:00:00\n",
            "2024-09-19 00:00:00\n",
            "2024-09-20 00:00:00\n",
            "2024-09-21 00:00:00\n",
            "2024-09-22 00:00:00\n",
            "2024-09-23 00:00:00\n",
            "2024-09-24 00:00:00\n",
            "2024-09-25 00:00:00\n",
            "2024-09-26 00:00:00\n",
            "2024-09-27 00:00:00\n",
            "2024-09-28 00:00:00\n",
            "2024-09-29 00:00:00\n",
            "2024-09-30 00:00:00\n",
            "2024-10-01 00:00:00\n",
            "2024-10-02 00:00:00\n"
          ]
        }
      ]
    },
    {
      "cell_type": "code",
      "source": [],
      "metadata": {
        "id": "DRx4Wjrwn4es"
      },
      "execution_count": null,
      "outputs": []
    },
    {
      "cell_type": "markdown",
      "source": [
        "# **10. Create 2D list to DataFrame**"
      ],
      "metadata": {
        "id": "B1iGvKJXoLp1"
      }
    },
    {
      "cell_type": "code",
      "source": [
        "lists = [[1, 'aaa', 22], [2, 'bbb', 25], [3, 'ccc', 24]]"
      ],
      "metadata": {
        "id": "c-PDiwFTn4ol"
      },
      "execution_count": null,
      "outputs": []
    },
    {
      "cell_type": "code",
      "source": [
        "df = pd.DataFrame(lists)\n",
        "df"
      ],
      "metadata": {
        "colab": {
          "base_uri": "https://localhost:8080/",
          "height": 143
        },
        "id": "_fkL-PLGoEz5",
        "outputId": "2523fa38-9e98-44bd-e501-51e73c71b161"
      },
      "execution_count": null,
      "outputs": [
        {
          "output_type": "execute_result",
          "data": {
            "text/plain": [
              "   0    1   2\n",
              "0  1  aaa  22\n",
              "1  2  bbb  25\n",
              "2  3  ccc  24"
            ],
            "text/html": [
              "\n",
              "  <div id=\"df-a1fad69c-cfdd-4581-bc88-b07f6f02cca4\">\n",
              "    <div class=\"colab-df-container\">\n",
              "      <div>\n",
              "<style scoped>\n",
              "    .dataframe tbody tr th:only-of-type {\n",
              "        vertical-align: middle;\n",
              "    }\n",
              "\n",
              "    .dataframe tbody tr th {\n",
              "        vertical-align: top;\n",
              "    }\n",
              "\n",
              "    .dataframe thead th {\n",
              "        text-align: right;\n",
              "    }\n",
              "</style>\n",
              "<table border=\"1\" class=\"dataframe\">\n",
              "  <thead>\n",
              "    <tr style=\"text-align: right;\">\n",
              "      <th></th>\n",
              "      <th>0</th>\n",
              "      <th>1</th>\n",
              "      <th>2</th>\n",
              "    </tr>\n",
              "  </thead>\n",
              "  <tbody>\n",
              "    <tr>\n",
              "      <th>0</th>\n",
              "      <td>1</td>\n",
              "      <td>aaa</td>\n",
              "      <td>22</td>\n",
              "    </tr>\n",
              "    <tr>\n",
              "      <th>1</th>\n",
              "      <td>2</td>\n",
              "      <td>bbb</td>\n",
              "      <td>25</td>\n",
              "    </tr>\n",
              "    <tr>\n",
              "      <th>2</th>\n",
              "      <td>3</td>\n",
              "      <td>ccc</td>\n",
              "      <td>24</td>\n",
              "    </tr>\n",
              "  </tbody>\n",
              "</table>\n",
              "</div>\n",
              "      <button class=\"colab-df-convert\" onclick=\"convertToInteractive('df-a1fad69c-cfdd-4581-bc88-b07f6f02cca4')\"\n",
              "              title=\"Convert this dataframe to an interactive table.\"\n",
              "              style=\"display:none;\">\n",
              "        \n",
              "  <svg xmlns=\"http://www.w3.org/2000/svg\" height=\"24px\"viewBox=\"0 0 24 24\"\n",
              "       width=\"24px\">\n",
              "    <path d=\"M0 0h24v24H0V0z\" fill=\"none\"/>\n",
              "    <path d=\"M18.56 5.44l.94 2.06.94-2.06 2.06-.94-2.06-.94-.94-2.06-.94 2.06-2.06.94zm-11 1L8.5 8.5l.94-2.06 2.06-.94-2.06-.94L8.5 2.5l-.94 2.06-2.06.94zm10 10l.94 2.06.94-2.06 2.06-.94-2.06-.94-.94-2.06-.94 2.06-2.06.94z\"/><path d=\"M17.41 7.96l-1.37-1.37c-.4-.4-.92-.59-1.43-.59-.52 0-1.04.2-1.43.59L10.3 9.45l-7.72 7.72c-.78.78-.78 2.05 0 2.83L4 21.41c.39.39.9.59 1.41.59.51 0 1.02-.2 1.41-.59l7.78-7.78 2.81-2.81c.8-.78.8-2.07 0-2.86zM5.41 20L4 18.59l7.72-7.72 1.47 1.35L5.41 20z\"/>\n",
              "  </svg>\n",
              "      </button>\n",
              "      \n",
              "  <style>\n",
              "    .colab-df-container {\n",
              "      display:flex;\n",
              "      flex-wrap:wrap;\n",
              "      gap: 12px;\n",
              "    }\n",
              "\n",
              "    .colab-df-convert {\n",
              "      background-color: #E8F0FE;\n",
              "      border: none;\n",
              "      border-radius: 50%;\n",
              "      cursor: pointer;\n",
              "      display: none;\n",
              "      fill: #1967D2;\n",
              "      height: 32px;\n",
              "      padding: 0 0 0 0;\n",
              "      width: 32px;\n",
              "    }\n",
              "\n",
              "    .colab-df-convert:hover {\n",
              "      background-color: #E2EBFA;\n",
              "      box-shadow: 0px 1px 2px rgba(60, 64, 67, 0.3), 0px 1px 3px 1px rgba(60, 64, 67, 0.15);\n",
              "      fill: #174EA6;\n",
              "    }\n",
              "\n",
              "    [theme=dark] .colab-df-convert {\n",
              "      background-color: #3B4455;\n",
              "      fill: #D2E3FC;\n",
              "    }\n",
              "\n",
              "    [theme=dark] .colab-df-convert:hover {\n",
              "      background-color: #434B5C;\n",
              "      box-shadow: 0px 1px 3px 1px rgba(0, 0, 0, 0.15);\n",
              "      filter: drop-shadow(0px 1px 2px rgba(0, 0, 0, 0.3));\n",
              "      fill: #FFFFFF;\n",
              "    }\n",
              "  </style>\n",
              "\n",
              "      <script>\n",
              "        const buttonEl =\n",
              "          document.querySelector('#df-a1fad69c-cfdd-4581-bc88-b07f6f02cca4 button.colab-df-convert');\n",
              "        buttonEl.style.display =\n",
              "          google.colab.kernel.accessAllowed ? 'block' : 'none';\n",
              "\n",
              "        async function convertToInteractive(key) {\n",
              "          const element = document.querySelector('#df-a1fad69c-cfdd-4581-bc88-b07f6f02cca4');\n",
              "          const dataTable =\n",
              "            await google.colab.kernel.invokeFunction('convertToInteractive',\n",
              "                                                     [key], {});\n",
              "          if (!dataTable) return;\n",
              "\n",
              "          const docLinkHtml = 'Like what you see? Visit the ' +\n",
              "            '<a target=\"_blank\" href=https://colab.research.google.com/notebooks/data_table.ipynb>data table notebook</a>'\n",
              "            + ' to learn more about interactive tables.';\n",
              "          element.innerHTML = '';\n",
              "          dataTable['output_type'] = 'display_data';\n",
              "          await google.colab.output.renderOutput(dataTable, element);\n",
              "          const docLink = document.createElement('div');\n",
              "          docLink.innerHTML = docLinkHtml;\n",
              "          element.appendChild(docLink);\n",
              "        }\n",
              "      </script>\n",
              "    </div>\n",
              "  </div>\n",
              "  "
            ]
          },
          "metadata": {},
          "execution_count": 20
        }
      ]
    }
  ]
}